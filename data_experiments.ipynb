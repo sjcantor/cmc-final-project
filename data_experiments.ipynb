{
 "cells": [
  {
   "cell_type": "markdown",
   "id": "2ba91787",
   "metadata": {},
   "source": [
    "## Creating my dataset"
   ]
  },
  {
   "cell_type": "markdown",
   "id": "75f23e25",
   "metadata": {},
   "source": [
    "OK, from my last chat with Pedro & Nazif, I have a very different (and much better) idea to move forwards with for the project. Instead of generating new hand movement, the goal is to train an LSTM model to predict MIDI notes for a given frame of a video. \n",
    "\n",
    "This way, given a new \"live\" performance of hands, the LSTM can generate a MIDI composition which can be played for the demo.\n",
    "\n",
    "It's the idea of a \"playing the piano without a piano\""
   ]
  },
  {
   "cell_type": "markdown",
   "id": "a1d8f5ab",
   "metadata": {},
   "source": [
    "## Input\n",
    "To keep it simple, I will only be looking at the x-position of the five fingertips for each hand.\n",
    "\n",
    "### Normalization\n",
    "For my demo, I don't want to have to worry about a setup where the frame size is the same as the trained videos. For this reason, I will **normalize** the x-position based on the size of the hands"
   ]
  },
  {
   "cell_type": "markdown",
   "id": "b24b8a59",
   "metadata": {},
   "source": [
    "Hand landmarks: ![](../visualizations/hand_landmarks.png)"
   ]
  },
  {
   "cell_type": "markdown",
   "id": "bcb9c2fa",
   "metadata": {},
   "source": [
    "Let's maybe try to measure landmark 0 to 5..."
   ]
  },
  {
   "cell_type": "code",
   "execution_count": 2,
   "id": "1028f59c",
   "metadata": {},
   "outputs": [
    {
     "ename": "ModuleNotFoundError",
     "evalue": "No module named 'mediapipe'",
     "output_type": "error",
     "traceback": [
      "\u001b[0;31m---------------------------------------------------------------------------\u001b[0m",
      "\u001b[0;31mModuleNotFoundError\u001b[0m                       Traceback (most recent call last)",
      "Cell \u001b[0;32mIn [2], line 4\u001b[0m\n\u001b[1;32m      2\u001b[0m \u001b[38;5;28;01mimport\u001b[39;00m \u001b[38;5;21;01mcv2\u001b[39;00m\n\u001b[1;32m      3\u001b[0m \u001b[38;5;66;03m# !python3 -m pip install mediapipe   #&> /dev/n/ull\u001b[39;00m\n\u001b[0;32m----> 4\u001b[0m \u001b[38;5;28;01mimport\u001b[39;00m \u001b[38;5;21;01mmediapipe\u001b[39;00m \u001b[38;5;28;01mas\u001b[39;00m \u001b[38;5;21;01mmp\u001b[39;00m\n\u001b[1;32m      5\u001b[0m mp_drawing \u001b[38;5;241m=\u001b[39m mp\u001b[38;5;241m.\u001b[39msolutions\u001b[38;5;241m.\u001b[39mdrawing_utils\n\u001b[1;32m      6\u001b[0m mp_drawing_styles \u001b[38;5;241m=\u001b[39m mp\u001b[38;5;241m.\u001b[39msolutions\u001b[38;5;241m.\u001b[39mdrawing_styles\n",
      "\u001b[0;31mModuleNotFoundError\u001b[0m: No module named 'mediapipe'"
     ]
    }
   ],
   "source": [
    "# Imports\n",
    "import cv2\n",
    "# !python3 -m pip install mediapipe   #&> /dev/n/ull\n",
    "import mediapipe as mp\n",
    "mp_drawing = mp.solutions.drawing_utils\n",
    "mp_drawing_styles = mp.solutions.drawing_styles\n",
    "mp_hands = mp.solutions.hands"
   ]
  },
  {
   "cell_type": "code",
   "execution_count": 1,
   "id": "767f97f5",
   "metadata": {},
   "outputs": [],
   "source": [
    "# Find the distance of two joints in a hand\n",
    "def find_hand_measurement(input_frame):\n",
    "    'Returns distance betwee'\n",
    "    with mp_hands.Hands(\n",
    "        model_complexity=0,\n",
    "        min_detection_confidence=0.5,\n",
    "        min_tracking_confidence=0.5) as hands:\n",
    "        image = cv2.cvtColor(image, cv2.COLOR_BGR2RGB)\n",
    "        results = hands.process(image)\n",
    "        \n",
    "        output_frame = np.zeros((image.shape[0], image.shape[1], 3), dtype = np.uint8)\n",
    "\n",
    "        if results.multi_hand_landmarks:\n",
    "            for hand_landmarks in results.multi_hand_landmarks:\n",
    "                mp_drawing.draw_landmarks(\n",
    "                    output_frame,\n",
    "                    hand_landmarks,\n",
    "                    mp_hands.HAND_CONNECTIONS,\n",
    "                    mp_drawing_styles.get_default_hand_landmarks_style(),\n",
    "                    mp_drawing_styles.get_default_hand_connections_style())\n",
    "                distance = abs(hand_landmarks[0][0] - hand_landmarks[5][0])\n",
    "                print(f'Distance between 0 and 5: {distance}')\n",
    "        output.write(output_frame)\n",
    "        return output_frame, distance"
   ]
  },
  {
   "cell_type": "code",
   "execution_count": 2,
   "id": "93853c92",
   "metadata": {},
   "outputs": [
    {
     "ename": "NameError",
     "evalue": "name 'mp_hands' is not defined",
     "output_type": "error",
     "traceback": [
      "\u001b[0;31m---------------------------------------------------------------------------\u001b[0m",
      "\u001b[0;31mNameError\u001b[0m                                 Traceback (most recent call last)",
      "Cell \u001b[0;32mIn [2], line 1\u001b[0m\n\u001b[0;32m----> 1\u001b[0m output_frame, distance \u001b[38;5;241m=\u001b[39m \u001b[43mfind_hand_measurement\u001b[49m\u001b[43m(\u001b[49m\u001b[38;5;124;43m'\u001b[39;49m\u001b[38;5;124;43m../data/test_clip/test_frame.png\u001b[39;49m\u001b[38;5;124;43m'\u001b[39;49m\u001b[43m)\u001b[49m\n",
      "Cell \u001b[0;32mIn [1], line 4\u001b[0m, in \u001b[0;36mfind_hand_measurement\u001b[0;34m(input_frame)\u001b[0m\n\u001b[1;32m      2\u001b[0m \u001b[38;5;28;01mdef\u001b[39;00m \u001b[38;5;21mfind_hand_measurement\u001b[39m(input_frame):\n\u001b[1;32m      3\u001b[0m     \u001b[38;5;124m'\u001b[39m\u001b[38;5;124mReturns distance betwee\u001b[39m\u001b[38;5;124m'\u001b[39m\n\u001b[0;32m----> 4\u001b[0m     \u001b[38;5;28;01mwith\u001b[39;00m \u001b[43mmp_hands\u001b[49m\u001b[38;5;241m.\u001b[39mHands(\n\u001b[1;32m      5\u001b[0m         model_complexity\u001b[38;5;241m=\u001b[39m\u001b[38;5;241m0\u001b[39m,\n\u001b[1;32m      6\u001b[0m         min_detection_confidence\u001b[38;5;241m=\u001b[39m\u001b[38;5;241m0.5\u001b[39m,\n\u001b[1;32m      7\u001b[0m         min_tracking_confidence\u001b[38;5;241m=\u001b[39m\u001b[38;5;241m0.5\u001b[39m) \u001b[38;5;28;01mas\u001b[39;00m hands:\n\u001b[1;32m      8\u001b[0m         image \u001b[38;5;241m=\u001b[39m cv2\u001b[38;5;241m.\u001b[39mcvtColor(image, cv2\u001b[38;5;241m.\u001b[39mCOLOR_BGR2RGB)\n\u001b[1;32m      9\u001b[0m         results \u001b[38;5;241m=\u001b[39m hands\u001b[38;5;241m.\u001b[39mprocess(image)\n",
      "\u001b[0;31mNameError\u001b[0m: name 'mp_hands' is not defined"
     ]
    }
   ],
   "source": [
    "output_frame, distance = find_hand_measurement('../data/test_clip/test_frame.png')"
   ]
  },
  {
   "cell_type": "code",
   "execution_count": null,
   "id": "c48a730b",
   "metadata": {},
   "outputs": [],
   "source": []
  }
 ],
 "metadata": {
  "kernelspec": {
   "display_name": "Python 3 (ipykernel)",
   "language": "python",
   "name": "python3"
  },
  "language_info": {
   "codemirror_mode": {
    "name": "ipython",
    "version": 3
   },
   "file_extension": ".py",
   "mimetype": "text/x-python",
   "name": "python",
   "nbconvert_exporter": "python",
   "pygments_lexer": "ipython3",
   "version": "3.10.0"
  }
 },
 "nbformat": 4,
 "nbformat_minor": 5
}
